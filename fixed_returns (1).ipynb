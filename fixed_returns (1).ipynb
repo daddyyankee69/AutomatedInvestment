{
  "nbformat": 4,
  "nbformat_minor": 0,
  "metadata": {
    "colab": {
      "provenance": []
    },
    "kernelspec": {
      "name": "python3",
      "display_name": "Python 3"
    },
    "language_info": {
      "name": "python"
    }
  },
  "cells": [
    {
      "cell_type": "code",
      "source": [
        "# ppf = 7.6\n",
        "# post = 6.8\n",
        "# fd = 6.9\n",
        "# bond = 7\n",
        "\n",
        "# NSC\n",
        "def post(amount,time):\n",
        "  if(amount < 1000):\n",
        "    print(\"Not applicable\")\n",
        "  else:\n",
        "    rate = 6.8\n",
        "    Ans=0.0\n",
        "    Ans = amount * (pow((1 + rate / 100), 5))\n",
        "    return(round(Ans))\n",
        "\n",
        "# post(23,10000,5)\n",
        "\n",
        "def ppf(amount,time):\n",
        "  if(time != 15 or amount < 500 or amount > 150000):\n",
        "    print(\"Not applicable\")\n",
        "  else:\n",
        "    rate = 7.1\n",
        "    Ans=0.0\n",
        "    for i in range(1, time+1):\n",
        "      Ans += amount * (pow((1 + rate / 100), i))\n",
        "    return(round(Ans))\n",
        "\n",
        "\n",
        "# PPF(22,10000,15)\n",
        "\n",
        "def fd(amount, time):\n",
        " \n",
        "    # Calculates compound interest\n",
        "    rate = 6.9\n",
        "    Ans = amount * (pow((1 + rate / 100), time))\n",
        "    return(round(Ans))\n",
        "\n",
        "# fd()\n",
        "\n",
        "def bonds(amount,time):\n",
        "    rate = 7.3 \n",
        "    Ans = amount * (pow((1 + rate / 100), time))\n",
        "    return(round(Ans))\n",
        "\n",
        "# post(300000,5)\n",
        "\n"
      ],
      "metadata": {
        "id": "6IUtQPGhn0jZ"
      },
      "execution_count": null,
      "outputs": []
    },
    {
      "cell_type": "markdown",
      "source": [
        "**User Input Method**"
      ],
      "metadata": {
        "id": "-UFiZSAM6s8w"
      }
    },
    {
      "cell_type": "code",
      "source": [
        "amount = int(input(\"Enter amount to be invested in zero risk investment:\"))\n",
        "print(\"% Amount to be invested in following investment: \")\n",
        "count=0\n",
        "balance=100\n",
        "I1 = int(input(\"Post: \"))\n",
        "if(I1 >100):\n",
        "    print(\" Not applicable \")\n",
        "    I1=0\n",
        "    count+=1\n",
        "    \n",
        "else:\n",
        "  balance = balance - I1\n",
        "\n",
        "I2 = int(input(\"FD: \"))\n",
        "if(I2>100 or I2+I1 >100):\n",
        "  I2 = 0\n",
        "  count+=1\n",
        "else:\n",
        "  balance -= I2\n",
        "  \n",
        "I3 = int(input(\"Bonds: \"))\n",
        "if(I3>100 or (I1+I3 >100 or I2+I3 >100) or (I1+I2+I3 >100)):\n",
        "  I3 =0\n",
        "  count+=1\n",
        "else:\n",
        "  balance-=I3\n",
        "\n",
        "\n",
        "\n",
        "if(balance != 0):\n",
        "\n",
        "  if(I1 == 0):\n",
        "    I1=balance/count\n",
        "  if(I2 == 0):\n",
        "    I2=balance/count\n",
        "  if(I3 == 0):\n",
        "    I3=balance/count\n",
        "  # if(I4 == 0):\n",
        "  #   I4=balance/count\n",
        "  print(I1,I2,I3)\n",
        "\n",
        "p=post((I1/100)*amount,5)\n",
        "f=fd((I2/100)*amount,5)\n",
        "b=bonds((I3/100)*amount, 5)\n",
        "print(\"\\n\")\n",
        "print(\"Expected returns in each type: \")\n",
        "print(\"Post:\",p)\n",
        "print(\"FD:\",f)\n",
        "print(\"Bonds:\",b)\n",
        "result = p+f+b\n",
        "print(\"\\n\")\n",
        "print(\"Total Expected returns: \",result)\n",
        "# print(\"PPf:\",ppf((I4/100)*amount,5))\n"
      ],
      "metadata": {
        "id": "lnugWcyjx8kz",
        "colab": {
          "base_uri": "https://localhost:8080/"
        },
        "outputId": "192ba1a2-282c-453f-fb8b-47c8b0a93f24"
      },
      "execution_count": null,
      "outputs": [
        {
          "output_type": "stream",
          "name": "stdout",
          "text": [
            "Enter amount to be invested in zero risk investment:500000\n",
            "% Amount to be invested in following investment: \n",
            "Post: 40\n",
            "FD: 30\n",
            "Bonds: 30\n",
            "\n",
            "\n",
            "Expected returns in each type: \n",
            "Post: 277899\n",
            "FD: 209401\n",
            "Bonds: 213349\n",
            "\n",
            "\n",
            "Total Expected returns:  700649\n"
          ]
        }
      ]
    },
    {
      "cell_type": "code",
      "source": [
        "def post(amount):\n",
        "  if(amount < 1000):\n",
        "    print(\"Not applicable\")\n",
        "  else:\n",
        "    rate = 6.8\n",
        "    Ans=0.0\n",
        "    Ans = amount * (pow((1 + rate / 100), 5))\n",
        "    return(round(Ans))\n",
        "\n",
        "# post(23,10000,5)\n",
        "\n",
        "def ppf(amount,time):\n",
        "  if(time != 15 or amount < 500 or amount > 150000):\n",
        "    print(\"Not applicable\")\n",
        "  else:\n",
        "    rate = 7.1\n",
        "    Ans=0.0\n",
        "    for i in range(1, time+1):\n",
        "      Ans += amount * (pow((1 + rate / 100), i))\n",
        "    return(round(Ans))\n",
        "\n",
        "\n",
        "# PPF(22,10000,15)\n",
        "\n",
        "def fd(amount):\n",
        " \n",
        "    # Calculates compound interest\n",
        "    rate = 6.9\n",
        "    Ans = amount * (pow((1 + rate / 100), 5))\n",
        "    return(round(Ans))\n",
        "\n",
        "# fd()\n",
        "\n",
        "def bonds(amount):\n",
        "    rate = 6.7\n",
        "    Ans = amount * (pow((1 + rate / 100), 5))\n",
        "    return(round(Ans))"
      ],
      "metadata": {
        "id": "EtEQhqOkaAzM"
      },
      "execution_count": null,
      "outputs": []
    },
    {
      "cell_type": "markdown",
      "source": [
        "**1/2 STRATEGY**\n"
      ],
      "metadata": {
        "id": "L6Q-z-tuUL-b"
      }
    },
    {
      "cell_type": "code",
      "source": [
        "items = [\n",
        "  (10000, 13000),#POST\n",
        "  (20000, 24000), #FD\n",
        "  (30000, 36000) #Bonds\n",
        "]\n",
        "weight_limit = int(input(\"Enter amount to be invested: \"))\n",
        "sorted_items = sorted(items, key=lambda x: x[1] / x[0], reverse=True)\n",
        "\n",
        "i=0\n",
        "n=len(sorted_items)\n",
        "inv = [0,0,0]\n",
        "while i < n:\n",
        "  if i==n-1:\n",
        "    if sorted_items[i][0] < weight_limit:\n",
        "      inv[i]=weight_limit\n",
        "      break\n",
        "\n",
        "  elif inv[i] >= weight_limit:\n",
        "    i+=1\n",
        "  else:\n",
        "    inv[i]+=sorted_items[i][0]\n",
        "    weight_limit-=sorted_items[i][0]\n",
        "    # print(inv[i],weight_limit)\n",
        "\n",
        "returns=fd(inv[0])+post(inv[1])+bonds(inv[2])\n",
        "print(\"Amount allocation in each type: \",inv)\n",
        "print(\"Total expected returns: \",returns)\n"
      ],
      "metadata": {
        "id": "tqELjUG0R_jw",
        "colab": {
          "base_uri": "https://localhost:8080/"
        },
        "outputId": "46ed4523-987b-4b39-b6ee-f034f5c0e14f"
      },
      "execution_count": null,
      "outputs": [
        {
          "output_type": "stream",
          "name": "stdout",
          "text": [
            "Enter amount to be invested: 500000\n",
            "Amount allocation in each type:  [250000, 140000, 110000]\n",
            "Total expected returns:  695661\n"
          ]
        }
      ]
    }
  ]
}